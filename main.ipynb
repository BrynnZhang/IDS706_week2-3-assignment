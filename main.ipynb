{
 "cells": [
  {
   "cell_type": "code",
   "execution_count": 336,
   "metadata": {},
   "outputs": [],
   "source": [
    "import pandas as pd\n",
    "import numpy as np\n",
    "import polars as pl"
   ]
  },
  {
   "cell_type": "markdown",
   "metadata": {},
   "source": [
    "# Using Pandas to inspect file"
   ]
  },
  {
   "cell_type": "code",
   "execution_count": 337,
   "metadata": {},
   "outputs": [
    {
     "name": "stdout",
     "output_type": "stream",
     "text": [
      "                                               title              rating  \\\n",
      "0  BOYA BOYALINK 2 Wireless Lavalier Microphone f...  4.6 out of 5 stars   \n",
      "1  LISEN USB C to Lightning Cable, 240W 4 in 1 Ch...  4.3 out of 5 stars   \n",
      "2  DJI Mic 2 (2 TX + 1 RX + Charging Case), Wirel...  4.6 out of 5 stars   \n",
      "3  Apple AirPods Pro 2 Wireless Earbuds, Active N...  4.6 out of 5 stars   \n",
      "4  Apple AirTag 4 Pack. Keep Track of and find Yo...  4.8 out of 5 stars   \n",
      "\n",
      "  number_of_reviews       bought_in_last_month current/discounted_price  \\\n",
      "0               375  300+ bought in past month                    89.68   \n",
      "1             2,457   6K+ bought in past month                     9.99   \n",
      "2             3,044   2K+ bought in past month                   314.00   \n",
      "3            35,882  10K+ bought in past month                      NaN   \n",
      "4            28,988  10K+ bought in past month                      NaN   \n",
      "\n",
      "               price_on_variant listed_price is_best_seller is_sponsored  \\\n",
      "0   basic variant price: 2.4GHz      $159.00       No Badge    Sponsored   \n",
      "1      basic variant price: nan       $15.99       No Badge    Sponsored   \n",
      "2      basic variant price: nan      $349.00       No Badge    Sponsored   \n",
      "3  basic variant price: $162.24  No Discount    Best Seller      Organic   \n",
      "4   basic variant price: $72.74  No Discount       No Badge      Organic   \n",
      "\n",
      "             is_couponed buy_box_availability      delivery_details  \\\n",
      "0  Save 15%  with coupon          Add to cart   Delivery Mon, Sep 1   \n",
      "1              No Coupon          Add to cart  Delivery Fri, Aug 29   \n",
      "2              No Coupon          Add to cart   Delivery Mon, Sep 1   \n",
      "3              No Coupon                  NaN                   NaN   \n",
      "4              No Coupon                  NaN                   NaN   \n",
      "\n",
      "  sustainability_badges                                          image_url  \\\n",
      "0         Carbon impact  https://m.media-amazon.com/images/I/71pAqiVEs3...   \n",
      "1                   NaN  https://m.media-amazon.com/images/I/61nbF6aVIP...   \n",
      "2                   NaN  https://m.media-amazon.com/images/I/61h78MEXoj...   \n",
      "3                   NaN  https://m.media-amazon.com/images/I/61SUj2aKoE...   \n",
      "4                   NaN  https://m.media-amazon.com/images/I/61bMNCeAUA...   \n",
      "\n",
      "                                         product_url         collected_at  \n",
      "0  /sspa/click?ie=UTF8&spc=MTo4NzEzNDY2NTQ5NDYxND...  2025-08-21 11:14:29  \n",
      "1  /sspa/click?ie=UTF8&spc=MTo4NzEzNDY2NTQ5NDYxND...  2025-08-21 11:14:29  \n",
      "2  /sspa/click?ie=UTF8&spc=MTo4NzEzNDY2NTQ5NDYxND...  2025-08-21 11:14:29  \n",
      "3  /Apple-Cancellation-Transparency-Personalized-...  2025-08-21 11:14:29  \n",
      "4  /Apple-MX542LL-A-AirTag-Pack/dp/B0D54JZTHY/ref...  2025-08-21 11:14:29  \n"
     ]
    }
   ],
   "source": [
    "\n",
    "#import using pandas\n",
    "df0 = pd.read_csv(\"amazon_products_sales_data_uncleaned.csv\")\n",
    "\n",
    "#dispaly the first 5 rows of the dataframe\n",
    "print(df0.head())\n"
   ]
  },
  {
   "cell_type": "code",
   "execution_count": 338,
   "metadata": {},
   "outputs": [
    {
     "name": "stdout",
     "output_type": "stream",
     "text": [
      "<class 'pandas.core.frame.DataFrame'>\n",
      "RangeIndex: 42675 entries, 0 to 42674\n",
      "Data columns (total 16 columns):\n",
      " #   Column                    Non-Null Count  Dtype \n",
      "---  ------                    --------------  ----- \n",
      " 0   title                     42675 non-null  object\n",
      " 1   rating                    41651 non-null  object\n",
      " 2   number_of_reviews         41651 non-null  object\n",
      " 3   bought_in_last_month      39458 non-null  object\n",
      " 4   current/discounted_price  30926 non-null  object\n",
      " 5   price_on_variant          42675 non-null  object\n",
      " 6   listed_price              42675 non-null  object\n",
      " 7   is_best_seller            42675 non-null  object\n",
      " 8   is_sponsored              42675 non-null  object\n",
      " 9   is_couponed               42675 non-null  object\n",
      " 10  buy_box_availability      28022 non-null  object\n",
      " 11  delivery_details          30955 non-null  object\n",
      " 12  sustainability_badges     3408 non-null   object\n",
      " 13  image_url                 42675 non-null  object\n",
      " 14  product_url               40606 non-null  object\n",
      " 15  collected_at              42675 non-null  object\n",
      "dtypes: object(16)\n",
      "memory usage: 5.2+ MB\n",
      "None\n",
      "\n",
      "\n",
      "The statistics summary of the dataframe is:                                                      title              rating  \\\n",
      "count                                               42675               41651   \n",
      "unique                                               8808                  31   \n",
      "top     Duracell Coppertop 9V Battery, 6 Count (Pack o...  4.6 out of 5 stars   \n",
      "freq                                                  744                6151   \n",
      "\n",
      "       number_of_reviews       bought_in_last_month current/discounted_price  \\\n",
      "count              41651                      39458                    30926   \n",
      "unique              4413                         59                     2576   \n",
      "top                   25  100+ bought in past month                    29.99   \n",
      "freq                 626                       8801                      825   \n",
      "\n",
      "                price_on_variant listed_price is_best_seller is_sponsored  \\\n",
      "count                      42675        42675          42675        42675   \n",
      "unique                      3466          911             12            2   \n",
      "top     basic variant price: nan  No Discount       No Badge      Organic   \n",
      "freq                       21031        30364          40814        35664   \n",
      "\n",
      "       is_couponed buy_box_availability     delivery_details  \\\n",
      "count        42675                28022                30955   \n",
      "unique          42                    1                  298   \n",
      "top      No Coupon          Add to cart  Delivery Mon, Sep 1   \n",
      "freq         40727                28022                 6189   \n",
      "\n",
      "       sustainability_badges  \\\n",
      "count                   3408   \n",
      "unique                    16   \n",
      "top           Small Business   \n",
      "freq                    1341   \n",
      "\n",
      "                                                image_url  \\\n",
      "count                                               42675   \n",
      "unique                                               8038   \n",
      "top     https://m.media-amazon.com/images/I/51Xr76m2WL...   \n",
      "freq                                                 1461   \n",
      "\n",
      "                                              product_url         collected_at  \n",
      "count                                               40606                42675  \n",
      "unique                                              40606                 1559  \n",
      "top     /sspa/click?ie=UTF8&spc=MTo4NzEzNDY2NTQ5NDYxND...  2025-08-21 11:14:29  \n",
      "freq                                                    1                   33  \n"
     ]
    }
   ],
   "source": [
    "#display the dataframe info and summary statistics\n",
    "print(df0.info())\n",
    "print(\"\\n\")\n",
    "print(\"The statistics summary of the dataframe is: \", df0.describe())"
   ]
  },
  {
   "cell_type": "code",
   "execution_count": 339,
   "metadata": {},
   "outputs": [
    {
     "name": "stdout",
     "output_type": "stream",
     "text": [
      "Missing values: \n",
      " title                           0\n",
      "rating                       1024\n",
      "number_of_reviews            1024\n",
      "bought_in_last_month         3217\n",
      "current/discounted_price    11749\n",
      "price_on_variant                0\n",
      "listed_price                    0\n",
      "is_best_seller                  0\n",
      "is_sponsored                    0\n",
      "is_couponed                     0\n",
      "buy_box_availability        14653\n",
      "delivery_details            11720\n",
      "sustainability_badges       39267\n",
      "image_url                       0\n",
      "product_url                  2069\n",
      "collected_at                    0\n",
      "dtype: int64\n",
      "\n",
      "\n",
      "numbers of duplicates:  0\n"
     ]
    }
   ],
   "source": [
    "#check for missing values and duplicates\n",
    "print(\"Missing values:\", \"\\n\",df0.isnull().sum())\n",
    "print(\"\\n\")\n",
    "print(\"numbers of duplicates: \", df0.duplicated().sum())"
   ]
  },
  {
   "cell_type": "markdown",
   "metadata": {},
   "source": [
    "# Using Polars to inspect file"
   ]
  },
  {
   "cell_type": "code",
   "execution_count": 340,
   "metadata": {},
   "outputs": [
    {
     "name": "stdout",
     "output_type": "stream",
     "text": [
      "shape: (5, 16)\n",
      "┌───────────┬───────────┬───────────┬───────────┬───┬───────────┬───────────┬───────────┬──────────┐\n",
      "│ title     ┆ rating    ┆ number_of ┆ bought_in ┆ … ┆ sustainab ┆ image_url ┆ product_u ┆ collecte │\n",
      "│ ---       ┆ ---       ┆ _reviews  ┆ _last_mon ┆   ┆ ility_bad ┆ ---       ┆ rl        ┆ d_at     │\n",
      "│ str       ┆ str       ┆ ---       ┆ th        ┆   ┆ ges       ┆ str       ┆ ---       ┆ ---      │\n",
      "│           ┆           ┆ str       ┆ ---       ┆   ┆ ---       ┆           ┆ str       ┆ str      │\n",
      "│           ┆           ┆           ┆ str       ┆   ┆ str       ┆           ┆           ┆          │\n",
      "╞═══════════╪═══════════╪═══════════╪═══════════╪═══╪═══════════╪═══════════╪═══════════╪══════════╡\n",
      "│ BOYA      ┆ 4.6 out   ┆ 375       ┆ 300+      ┆ … ┆ Carbon    ┆ https://m ┆ /sspa/cli ┆ 2025-08- │\n",
      "│ BOYALINK  ┆ of 5      ┆           ┆ bought in ┆   ┆ impact    ┆ .media-am ┆ ck?ie=UTF ┆ 21       │\n",
      "│ 2         ┆ stars     ┆           ┆ past      ┆   ┆           ┆ azon.com/ ┆ 8&spc=MTo ┆ 11:14:29 │\n",
      "│ Wireless  ┆           ┆           ┆ month     ┆   ┆           ┆ ima…      ┆ 4Nz…      ┆          │\n",
      "│ Laval…    ┆           ┆           ┆           ┆   ┆           ┆           ┆           ┆          │\n",
      "│ LISEN USB ┆ 4.3 out   ┆ 2,457     ┆ 6K+       ┆ … ┆ null      ┆ https://m ┆ /sspa/cli ┆ 2025-08- │\n",
      "│ C to      ┆ of 5      ┆           ┆ bought in ┆   ┆           ┆ .media-am ┆ ck?ie=UTF ┆ 21       │\n",
      "│ Lightning ┆ stars     ┆           ┆ past      ┆   ┆           ┆ azon.com/ ┆ 8&spc=MTo ┆ 11:14:29 │\n",
      "│ Cable…    ┆           ┆           ┆ month     ┆   ┆           ┆ ima…      ┆ 4Nz…      ┆          │\n",
      "│ DJI Mic 2 ┆ 4.6 out   ┆ 3,044     ┆ 2K+       ┆ … ┆ null      ┆ https://m ┆ /sspa/cli ┆ 2025-08- │\n",
      "│ (2 TX + 1 ┆ of 5      ┆           ┆ bought in ┆   ┆           ┆ .media-am ┆ ck?ie=UTF ┆ 21       │\n",
      "│ RX +      ┆ stars     ┆           ┆ past      ┆   ┆           ┆ azon.com/ ┆ 8&spc=MTo ┆ 11:14:29 │\n",
      "│ Charg…    ┆           ┆           ┆ month     ┆   ┆           ┆ ima…      ┆ 4Nz…      ┆          │\n",
      "│ Apple     ┆ 4.6 out   ┆ 35,882    ┆ 10K+      ┆ … ┆ null      ┆ https://m ┆ /Apple-Ca ┆ 2025-08- │\n",
      "│ AirPods   ┆ of 5      ┆           ┆ bought in ┆   ┆           ┆ .media-am ┆ ncellatio ┆ 21       │\n",
      "│ Pro 2     ┆ stars     ┆           ┆ past      ┆   ┆           ┆ azon.com/ ┆ n-Transpa ┆ 11:14:29 │\n",
      "│ Wireless  ┆           ┆           ┆ month     ┆   ┆           ┆ ima…      ┆ ren…      ┆          │\n",
      "│ E…        ┆           ┆           ┆           ┆   ┆           ┆           ┆           ┆          │\n",
      "│ Apple     ┆ 4.8 out   ┆ 28,988    ┆ 10K+      ┆ … ┆ null      ┆ https://m ┆ /Apple-MX ┆ 2025-08- │\n",
      "│ AirTag 4  ┆ of 5      ┆           ┆ bought in ┆   ┆           ┆ .media-am ┆ 542LL-A-A ┆ 21       │\n",
      "│ Pack.     ┆ stars     ┆           ┆ past      ┆   ┆           ┆ azon.com/ ┆ irTag-Pac ┆ 11:14:29 │\n",
      "│ Keep      ┆           ┆           ┆ month     ┆   ┆           ┆ ima…      ┆ k/d…      ┆          │\n",
      "│ Trac…     ┆           ┆           ┆           ┆   ┆           ┆           ┆           ┆          │\n",
      "└───────────┴───────────┴───────────┴───────────┴───┴───────────┴───────────┴───────────┴──────────┘\n"
     ]
    }
   ],
   "source": [
    "\n",
    "# Read the CSV with error handling\n",
    "plf = pl.read_csv(\n",
    "        \"amazon_products_sales_data_uncleaned.csv\",\n",
    "        ignore_errors=True  # Refering Copilot, Skip problematic rows\n",
    "    )\n",
    "    \n",
    "    # Display the first 5 rows\n",
    "print(plf.head())"
   ]
  },
  {
   "cell_type": "code",
   "execution_count": 341,
   "metadata": {},
   "outputs": [
    {
     "name": "stdout",
     "output_type": "stream",
     "text": [
      "shape: (9, 17)\n",
      "┌───────────┬───────────┬───────────┬───────────┬───┬───────────┬───────────┬───────────┬──────────┐\n",
      "│ statistic ┆ title     ┆ rating    ┆ number_of ┆ … ┆ sustainab ┆ image_url ┆ product_u ┆ collecte │\n",
      "│ ---       ┆ ---       ┆ ---       ┆ _reviews  ┆   ┆ ility_bad ┆ ---       ┆ rl        ┆ d_at     │\n",
      "│ str       ┆ str       ┆ str       ┆ ---       ┆   ┆ ges       ┆ str       ┆ ---       ┆ ---      │\n",
      "│           ┆           ┆           ┆ str       ┆   ┆ ---       ┆           ┆ str       ┆ str      │\n",
      "│           ┆           ┆           ┆           ┆   ┆ str       ┆           ┆           ┆          │\n",
      "╞═══════════╪═══════════╪═══════════╪═══════════╪═══╪═══════════╪═══════════╪═══════════╪══════════╡\n",
      "│ count     ┆ 42675     ┆ 41651     ┆ 41651     ┆ … ┆ 3408      ┆ 42675     ┆ 40606     ┆ 42675    │\n",
      "│ null_coun ┆ 0         ┆ 1024      ┆ 1024      ┆ … ┆ 39267     ┆ 0         ┆ 2069      ┆ 0        │\n",
      "│ t         ┆           ┆           ┆           ┆   ┆           ┆           ┆           ┆          │\n",
      "│ mean      ┆ null      ┆ null      ┆ null      ┆ … ┆ null      ┆ null      ┆ null      ┆ null     │\n",
      "│ std       ┆ null      ┆ null      ┆ null      ┆ … ┆ null      ┆ null      ┆ null      ┆ null     │\n",
      "│ min       ┆ (2)       ┆ 1.0 out   ┆ 1         ┆ … ┆ 1 sustain ┆ https://m ┆ /%E3%80%9 ┆ 2025-08- │\n",
      "│           ┆ Kicker    ┆ of 5      ┆           ┆   ┆ ability   ┆ .media-am ┆ 0%E4%BB%B ┆ 21       │\n",
      "│           ┆ 40PS692   ┆ stars     ┆           ┆   ┆ certifica ┆ azon.com/ ┆ B%E5%A4%A ┆ 11:14:29 │\n",
      "│           ┆ 6x9\" 180w ┆           ┆           ┆   ┆ tion      ┆ ima…      ┆ 9%E…      ┆          │\n",
      "│           ┆ P…        ┆           ┆           ┆   ┆           ┆           ┆           ┆          │\n",
      "│ 25%       ┆ null      ┆ null      ┆ null      ┆ … ┆ null      ┆ null      ┆ null      ┆ null     │\n",
      "│ 50%       ┆ null      ┆ null      ┆ null      ┆ … ┆ null      ┆ null      ┆ null      ┆ null     │\n",
      "│ 75%       ┆ null      ┆ null      ┆ null      ┆ … ┆ null      ┆ null      ┆ null      ┆ null     │\n",
      "│ max       ┆ ​​​​PopSocket ┆ 5.0 out   ┆ 999       ┆ … ┆ Works     ┆ https://m ┆ /wireless ┆ 2025-08- │\n",
      "│           ┆ s Phone   ┆ of 5      ┆           ┆   ┆ with      ┆ .media-am ┆ -USB-WiFi ┆ 30       │\n",
      "│           ┆ Grip      ┆ stars     ┆           ┆   ┆ Alexa     ┆ azon.com/ ┆ -Adapter- ┆ 19:56:33 │\n",
      "│           ┆ with…     ┆           ┆           ┆   ┆           ┆ ima…      ┆ PC/…      ┆          │\n",
      "└───────────┴───────────┴───────────┴───────────┴───┴───────────┴───────────┴───────────┴──────────┘\n",
      "\n",
      "\n"
     ]
    }
   ],
   "source": [
    "# Show the statistical summary\n",
    "print(plf.describe())\n",
    "print(\"\\n\")"
   ]
  },
  {
   "cell_type": "code",
   "execution_count": 342,
   "metadata": {},
   "outputs": [
    {
     "name": "stdout",
     "output_type": "stream",
     "text": [
      "Missing values: \n",
      " shape: (1, 16)\n",
      "┌───────┬────────┬─────────────┬────────────┬───┬────────────┬───────────┬────────────┬────────────┐\n",
      "│ title ┆ rating ┆ number_of_r ┆ bought_in_ ┆ … ┆ sustainabi ┆ image_url ┆ product_ur ┆ collected_ │\n",
      "│ ---   ┆ ---    ┆ eviews      ┆ last_month ┆   ┆ lity_badge ┆ ---       ┆ l          ┆ at         │\n",
      "│ u32   ┆ u32    ┆ ---         ┆ ---        ┆   ┆ s          ┆ u32       ┆ ---        ┆ ---        │\n",
      "│       ┆        ┆ u32         ┆ u32        ┆   ┆ ---        ┆           ┆ u32        ┆ u32        │\n",
      "│       ┆        ┆             ┆            ┆   ┆ u32        ┆           ┆            ┆            │\n",
      "╞═══════╪════════╪═════════════╪════════════╪═══╪════════════╪═══════════╪════════════╪════════════╡\n",
      "│ 0     ┆ 1024   ┆ 1024        ┆ 3217       ┆ … ┆ 39267      ┆ 0         ┆ 2069       ┆ 0          │\n",
      "└───────┴────────┴─────────────┴────────────┴───┴────────────┴───────────┴────────────┴────────────┘\n",
      "Missing values in column 1: shape: (1, 1)\n",
      "┌───────┐\n",
      "│ title │\n",
      "│ ---   │\n",
      "│ u32   │\n",
      "╞═══════╡\n",
      "│ 0     │\n",
      "└───────┘\n",
      "Missing values in column 2: shape: (1, 1)\n",
      "┌────────┐\n",
      "│ rating │\n",
      "│ ---    │\n",
      "│ u32    │\n",
      "╞════════╡\n",
      "│ 1024   │\n",
      "└────────┘\n",
      "Missing values in column 3: shape: (1, 1)\n",
      "┌───────────────────┐\n",
      "│ number_of_reviews │\n",
      "│ ---               │\n",
      "│ u32               │\n",
      "╞═══════════════════╡\n",
      "│ 1024              │\n",
      "└───────────────────┘\n",
      "Missing values in column 4: shape: (1, 1)\n",
      "┌──────────────────────┐\n",
      "│ bought_in_last_month │\n",
      "│ ---                  │\n",
      "│ u32                  │\n",
      "╞══════════════════════╡\n",
      "│ 3217                 │\n",
      "└──────────────────────┘\n",
      "Missing values in column 5: shape: (1, 1)\n",
      "┌──────────────────────────┐\n",
      "│ current/discounted_price │\n",
      "│ ---                      │\n",
      "│ u32                      │\n",
      "╞══════════════════════════╡\n",
      "│ 12941                    │\n",
      "└──────────────────────────┘\n",
      "Missing values in column 6: shape: (1, 1)\n",
      "┌──────────────────┐\n",
      "│ price_on_variant │\n",
      "│ ---              │\n",
      "│ u32              │\n",
      "╞══════════════════╡\n",
      "│ 0                │\n",
      "└──────────────────┘\n",
      "Missing values in column 7: shape: (1, 1)\n",
      "┌──────────────┐\n",
      "│ listed_price │\n",
      "│ ---          │\n",
      "│ u32          │\n",
      "╞══════════════╡\n",
      "│ 0            │\n",
      "└──────────────┘\n",
      "Missing values in column 8: shape: (1, 1)\n",
      "┌────────────────┐\n",
      "│ is_best_seller │\n",
      "│ ---            │\n",
      "│ u32            │\n",
      "╞════════════════╡\n",
      "│ 0              │\n",
      "└────────────────┘\n",
      "Missing values in column 9: shape: (1, 1)\n",
      "┌──────────────┐\n",
      "│ is_sponsored │\n",
      "│ ---          │\n",
      "│ u32          │\n",
      "╞══════════════╡\n",
      "│ 0            │\n",
      "└──────────────┘\n",
      "Missing values in column 10: shape: (1, 1)\n",
      "┌─────────────┐\n",
      "│ is_couponed │\n",
      "│ ---         │\n",
      "│ u32         │\n",
      "╞═════════════╡\n",
      "│ 0           │\n",
      "└─────────────┘\n",
      "Missing values in column 11: shape: (1, 1)\n",
      "┌──────────────────────┐\n",
      "│ buy_box_availability │\n",
      "│ ---                  │\n",
      "│ u32                  │\n",
      "╞══════════════════════╡\n",
      "│ 14653                │\n",
      "└──────────────────────┘\n",
      "Missing values in column 12: shape: (1, 1)\n",
      "┌──────────────────┐\n",
      "│ delivery_details │\n",
      "│ ---              │\n",
      "│ u32              │\n",
      "╞══════════════════╡\n",
      "│ 11720            │\n",
      "└──────────────────┘\n",
      "Missing values in column 13: shape: (1, 1)\n",
      "┌───────────────────────┐\n",
      "│ sustainability_badges │\n",
      "│ ---                   │\n",
      "│ u32                   │\n",
      "╞═══════════════════════╡\n",
      "│ 39267                 │\n",
      "└───────────────────────┘\n",
      "Missing values in column 14: shape: (1, 1)\n",
      "┌───────────┐\n",
      "│ image_url │\n",
      "│ ---       │\n",
      "│ u32       │\n",
      "╞═══════════╡\n",
      "│ 0         │\n",
      "└───────────┘\n",
      "Missing values in column 15: shape: (1, 1)\n",
      "┌─────────────┐\n",
      "│ product_url │\n",
      "│ ---         │\n",
      "│ u32         │\n",
      "╞═════════════╡\n",
      "│ 2069        │\n",
      "└─────────────┘\n",
      "Missing values in column 16: shape: (1, 1)\n",
      "┌──────────────┐\n",
      "│ collected_at │\n",
      "│ ---          │\n",
      "│ u32          │\n",
      "╞══════════════╡\n",
      "│ 0            │\n",
      "└──────────────┘\n",
      "\n",
      "\n",
      "Number of duplicates: 0\n"
     ]
    }
   ],
   "source": [
    "\n",
    "# Check for missing values and duplicates\n",
    "print(\"Missing values:\", \"\\n\", plf.null_count())\n",
    "#check the missing value in each column \n",
    "for i in range(plf.width):\n",
    "    print(f\"Missing values in column {i+1}:\", plf.select(pl.col(plf.columns[i]).is_null().sum()))\n",
    "\n",
    "print(\"\\n\")\n",
    "print(\"Number of duplicates:\", plf.is_duplicated().sum())"
   ]
  },
  {
   "cell_type": "markdown",
   "metadata": {},
   "source": [
    "# Cleaning data\n",
    "## 1. Clean \"rating\"\n"
   ]
  },
  {
   "cell_type": "code",
   "execution_count": 343,
   "metadata": {},
   "outputs": [
    {
     "name": "stdout",
     "output_type": "stream",
     "text": [
      "Empty DataFrame\n",
      "Columns: [title, rating, number_of_reviews, bought_in_last_month, current/discounted_price, price_on_variant, listed_price, is_best_seller, is_sponsored, is_couponed, buy_box_availability, delivery_details, sustainability_badges, image_url, product_url, collected_at]\n",
      "Index: []\n",
      "0        4.6\n",
      "1        4.3\n",
      "2        4.6\n",
      "3        4.6\n",
      "4        4.8\n",
      "        ... \n",
      "42670    5.0\n",
      "42671    4.2\n",
      "42672    4.3\n",
      "42673    4.7\n",
      "42674    4.4\n",
      "Name: rating, Length: 42675, dtype: float64\n"
     ]
    }
   ],
   "source": [
    "#manipulate on the cloned dataframe\n",
    "df = df0.copy()\n",
    "\n",
    "#show the head/first row \n",
    "print(df.head(0))\n",
    "\n",
    "#remove \"out of 5 stars\" from the ratings column\n",
    "df['rating'] = df['rating'].str.replace(' out of 5 stars', '')\n",
    "#convert the ratings column to numeric\n",
    "df['rating'] = pd.to_numeric(df['rating'])\n",
    "print(df['rating'])"
   ]
  },
  {
   "cell_type": "markdown",
   "metadata": {},
   "source": [
    "## 2. Clean \"number_of_reviews\"\n",
    "\n"
   ]
  },
  {
   "cell_type": "code",
   "execution_count": 344,
   "metadata": {},
   "outputs": [
    {
     "name": "stdout",
     "output_type": "stream",
     "text": [
      "0          375.0\n",
      "1         2457.0\n",
      "2         3044.0\n",
      "3        35882.0\n",
      "4        28988.0\n",
      "          ...   \n",
      "42670        1.0\n",
      "42671       20.0\n",
      "42672       57.0\n",
      "42673     7102.0\n",
      "42674       75.0\n",
      "Name: number_of_reviews, Length: 42675, dtype: float64\n"
     ]
    }
   ],
   "source": [
    "# remove \",\" separator in number_of_reviews and change str to float\n",
    "df['number_of_reviews'] = df['number_of_reviews'].str.replace(',', '')\n",
    "df['number_of_reviews'] = pd.to_numeric(df['number_of_reviews'])\n",
    "print(df['number_of_reviews'])"
   ]
  },
  {
   "cell_type": "markdown",
   "metadata": {},
   "source": [
    "## 3. Clean \"current'discounted_price\"\n"
   ]
  },
  {
   "cell_type": "code",
   "execution_count": 345,
   "metadata": {
    "notebookRunGroups": {
     "groupValue": ""
    }
   },
   "outputs": [
    {
     "name": "stdout",
     "output_type": "stream",
     "text": [
      "0         89.68\n",
      "1          9.99\n",
      "2        314.00\n",
      "3        162.24\n",
      "4         72.74\n",
      "          ...  \n",
      "42670    195.99\n",
      "42671     89.99\n",
      "42672    899.99\n",
      "42673     10.39\n",
      "42674    419.99\n",
      "Name: current/discounted_price, Length: 42675, dtype: float64\n",
      "Missing values after cleaning: \n",
      " 2062\n"
     ]
    }
   ],
   "source": [
    "# 1. replace cells without \"$\" to NA, and remove \"basic variant price: $\" part in price_on_variant\n",
    "df['price_on_variant'] = df['price_on_variant'].where(df['price_on_variant'].str.contains(r'\\$', na=False), np.nan)\n",
    "df['price_on_variant'] = df['price_on_variant'].str.replace('basic variant price: $', '')\n",
    "#print(df['price_on_variant'])\n",
    "\n",
    "# 2. apply cleaned price_on_variant to missing current_discounted_price\n",
    "df['current/discounted_price'] = df.apply(lambda row: row['price_on_variant'] if pd.isnull(row['current/discounted_price']) else row['current/discounted_price'], axis=1)\n",
    "\n",
    "# 3. remove all \",\" separator in current/discounted_price and convert to numeric\n",
    "df['current/discounted_price'] = df['current/discounted_price'].str.replace(',', '')\n",
    "#print(df['current/discounted_price'])\n",
    "df['current/discounted_price'] = pd.to_numeric(df['current/discounted_price'])\n",
    "print(df['current/discounted_price'])\n",
    "#4. check missing value (12941 before cleaning)\n",
    "print(\"Missing values after cleaning:\", \"\\n\",df['current/discounted_price'].isnull().sum())\n"
   ]
  },
  {
   "cell_type": "markdown",
   "metadata": {},
   "source": [
    "## 4. Clean \"listed_price\""
   ]
  },
  {
   "cell_type": "code",
   "execution_count": 346,
   "metadata": {},
   "outputs": [
    {
     "name": "stdout",
     "output_type": "stream",
     "text": [
      "0         159.00\n",
      "1          15.99\n",
      "2         349.00\n",
      "3         162.24\n",
      "4          72.74\n",
      "          ...   \n",
      "42670     195.99\n",
      "42671      89.99\n",
      "42672    1099.99\n",
      "42673      15.98\n",
      "42674     499.99\n",
      "Name: listed_price, Length: 42675, dtype: float64\n",
      "Missing values after cleaning: \n",
      " 2062\n"
     ]
    }
   ],
   "source": [
    "#remove \"$\" and \",\" in listed_price\n",
    "df['listed_price'] = df['listed_price'].str.replace('$', '')\n",
    "df['listed_price'] = df['listed_price'].str.replace(',', '')\n",
    "\n",
    "#replace \"No Discount\" with current/discounted_price and convert to numeric\n",
    "df['listed_price'] = df.apply(lambda row: row['current/discounted_price'] if row['listed_price'] == 'No Discount' else row['listed_price'], axis=1)\n",
    "df['listed_price'] = pd.to_numeric(df['listed_price'])\n",
    "\n",
    "print(df['listed_price'])\n",
    "\n",
    "\n",
    "#check missing value, should align with current/discounted_price(2062 after cleaning)\n",
    "print(\"Missing values after cleaning:\", \"\\n\",df['listed_price'].isnull().sum())"
   ]
  },
  {
   "cell_type": "markdown",
   "metadata": {},
   "source": [
    "# Basic Filtering and Grouping"
   ]
  },
  {
   "cell_type": "code",
   "execution_count": 347,
   "metadata": {},
   "outputs": [
    {
     "name": "stdout",
     "output_type": "stream",
     "text": [
      "                                               title  rating  \\\n",
      "0  BOYA BOYALINK 2 Wireless Lavalier Microphone f...     4.6   \n",
      "1  LISEN USB C to Lightning Cable, 240W 4 in 1 Ch...     4.3   \n",
      "2  DJI Mic 2 (2 TX + 1 RX + Charging Case), Wirel...     4.6   \n",
      "3  Apple AirPods Pro 2 Wireless Earbuds, Active N...     4.6   \n",
      "4  Apple AirTag 4 Pack. Keep Track of and find Yo...     4.8   \n",
      "\n",
      "   number_of_reviews  current/discounted_price  listed_price  \n",
      "0              375.0                     89.68        159.00  \n",
      "1             2457.0                      9.99         15.99  \n",
      "2             3044.0                    314.00        349.00  \n",
      "3            35882.0                    162.24        162.24  \n",
      "4            28988.0                     72.74         72.74  \n",
      "    rating  number_of_reviews  current/discounted_price  listed_price\n",
      "0      1.0           1.000000                228.012500    228.012500\n",
      "1      1.5           5.000000               1250.243333   1250.243333\n",
      "2      2.0           2.013986               1887.048881   1887.048881\n",
      "3      2.3           9.000000                339.990000    339.990000\n",
      "4      2.4          13.333333                518.320000    518.320000\n",
      "5      2.5           6.000000                519.990000    519.990000\n",
      "6      2.6          13.000000                119.990000    119.990000\n",
      "7      2.7          14.466667                221.666667    221.666667\n",
      "8      2.8           9.500000                414.742500    414.742500\n",
      "9      2.9          15.000000                193.965000    193.965000\n",
      "10     3.0           7.272109                887.187823    889.228639\n",
      "11     3.1          69.500000                260.905000    260.905000\n",
      "12     3.2          83.100962                 33.052548     33.148702\n",
      "13     3.3          29.500000                477.490000    498.323333\n",
      "14     3.4          39.944186                208.799535    209.515814\n",
      "15     3.5        1894.825726                127.508797    134.745519\n",
      "16     3.6         114.220877                164.114569    204.112950\n",
      "17     3.7         149.522766                197.966779    211.326745\n",
      "18     3.8        1378.371090                181.362449    209.250766\n",
      "19     3.9         787.986473                135.300483    144.165575\n",
      "20     4.0        1427.714597                161.484139    172.122208\n",
      "21     4.1         999.737748                210.379223    215.729140\n",
      "22     4.2        1351.477352                306.579082    317.347658\n",
      "23     4.3        1421.882461                174.349323    190.818297\n",
      "24     4.4        2955.353647                365.604911    374.813032\n",
      "25     4.5        2513.497491                252.429722    258.912680\n",
      "26     4.6        3317.150554                190.263574    197.514263\n",
      "27     4.7        5889.441544                127.560121    136.082248\n",
      "28     4.8        7063.831431                150.706916    205.932993\n",
      "29     4.9         240.240057                149.207571    158.289886\n",
      "30     5.0           8.334343                680.608556    684.211545\n"
     ]
    }
   ],
   "source": [
    "# keep only title, rating, number_of_reviews, current/discounted_price, listed_price columns\n",
    "df_filtered = df[['title', 'rating', 'number_of_reviews', 'current/discounted_price', 'listed_price']]\n",
    "#drop rows with missing values\n",
    "df_cleaned = df_filtered.dropna()\n",
    "print(df_cleaned.head())\n",
    "#export cleaned dataframe to a new csv file\n",
    "df_cleaned.to_csv('amazon_cleaned.csv', index=False)\n",
    "#Use groupby() to group the rating and get the corresponding average number_of_review, current/discounted_price and listed_price.\n",
    "grouped_df_cleaned = df_cleaned.groupby('rating').agg({\n",
    "    'number_of_reviews': 'mean',\n",
    "    'current/discounted_price': 'mean',\n",
    "    'listed_price': 'mean'\n",
    "}).reset_index()\n",
    "\n",
    "print(grouped_df_cleaned)"
   ]
  },
  {
   "cell_type": "markdown",
   "metadata": {},
   "source": [
    "# Explore a Machine Learning Algorithm: RandomForest and XGBoost"
   ]
  },
  {
   "cell_type": "code",
   "execution_count": 352,
   "metadata": {},
   "outputs": [
    {
     "name": "stderr",
     "output_type": "stream",
     "text": [
      "/var/folders/4h/p98g0fmn5wz5vhsxb4pjr9mm0000gn/T/ipykernel_63351/2421946177.py:9: SettingWithCopyWarning: \n",
      "A value is trying to be set on a copy of a slice from a DataFrame.\n",
      "Try using .loc[row_indexer,col_indexer] = value instead\n",
      "\n",
      "See the caveats in the documentation: https://pandas.pydata.org/pandas-docs/stable/user_guide/indexing.html#returning-a-view-versus-a-copy\n",
      "  df_cleaned['discount_rate'] = (df_cleaned['listed_price'] - df_cleaned['current/discounted_price'])/df['listed_price']\n"
     ]
    },
    {
     "name": "stdout",
     "output_type": "stream",
     "text": [
      "\n",
      "Random Forest Regressor\n",
      "RMSE: 15.20\n",
      "R²: 0.9990\n",
      "\n",
      "XGBoost Regressor\n",
      "RMSE: 24.87\n",
      "R²: 0.9972\n"
     ]
    }
   ],
   "source": [
    "\n",
    "from sklearn.model_selection import train_test_split\n",
    "from sklearn.ensemble import RandomForestRegressor\n",
    "from xgboost import XGBRegressor\n",
    "from sklearn.metrics import mean_squared_error, r2_score\n",
    "\n",
    "\n",
    "\n",
    "# Feature engineering: discount rate\n",
    "df_cleaned['discount_rate'] = (df_cleaned['listed_price'] - df_cleaned['current/discounted_price'])/df['listed_price']\n",
    "\n",
    "# Define features (X) and target (y)\n",
    "features = ['rating', 'number_of_reviews', 'listed_price', 'discount_rate']\n",
    "X = df_cleaned[features]\n",
    "y = df_cleaned['current/discounted_price']\n",
    "\n",
    "# Train-test split: 20% data for testing, fixed seed = 42 for reproducibility\n",
    "X_train, X_test, y_train, y_test = train_test_split(X, y, test_size=0.2, random_state=42)\n",
    "\n",
    "### -----------------------------\n",
    "### Random Forest Regressor\n",
    "### -----------------------------\n",
    "rf_model = RandomForestRegressor(n_estimators=100, random_state=42)\n",
    "rf_model.fit(X_train, y_train)\n",
    "rf_preds = rf_model.predict(X_test)\n",
    "\n",
    "# Evaluation RMSE(the lower the better) and R²(the closer to 1 the better)\n",
    "rf_rmse = np.sqrt(mean_squared_error(y_test, rf_preds))\n",
    "rf_r2 = r2_score(y_test, rf_preds)\n",
    "\n",
    "print(f\"\\nRandom Forest Regressor\\nRMSE: {rf_rmse:.2f}\\nR²: {rf_r2:.4f}\")\n",
    "\n",
    "### -----------------------------\n",
    "### XGBoost Regressor\n",
    "### -----------------------------\n",
    "xgb_model = XGBRegressor(n_estimators=100, learning_rate=0.1, random_state=42)\n",
    "xgb_model.fit(X_train, y_train)\n",
    "xgb_preds = xgb_model.predict(X_test)\n",
    "\n",
    "# Evaluation\n",
    "xgb_rmse = np.sqrt(mean_squared_error(y_test, xgb_preds))\n",
    "xgb_r2 = r2_score(y_test, xgb_preds)\n",
    "\n",
    "print(f\"\\nXGBoost Regressor\\nRMSE: {xgb_rmse:.2f}\\nR²: {xgb_r2:.4f}\")\n",
    "\n",
    "\n"
   ]
  },
  {
   "cell_type": "markdown",
   "metadata": {},
   "source": [
    "# Visualization "
   ]
  },
  {
   "cell_type": "code",
   "execution_count": 351,
   "metadata": {},
   "outputs": [
    {
     "data": {
      "image/png": "[encoded data removed]",
      "text/plain": [
       "<Figure size 800x500 with 1 Axes>"
      ]
     },
     "metadata": {},
     "output_type": "display_data"
    },
    {
     "data": {
      "image/png": "[encoded data removed]",
      "text/plain": [
       "<Figure size 800x500 with 1 Axes>"
      ]
     },
     "metadata": {},
     "output_type": "display_data"
    },
    {
     "data": {
      "image/png": "[encoded data removed]",
      "text/plain": [
       "<Figure size 800x600 with 1 Axes>"
      ]
     },
     "metadata": {},
     "output_type": "display_data"
    }
   ],
   "source": [
    "import matplotlib.pyplot as plt\n",
    "import seaborn as sns\n",
    "\n",
    "\n",
    "# feature importance visualization\n",
    "def plot_feature_importance(model, model_name):\n",
    "    importance = model.feature_importances_\n",
    "    sorted_idx = np.argsort(importance)\n",
    "    plt.figure(figsize=(8, 5))\n",
    "    plt.barh(range(len(sorted_idx)), importance[sorted_idx], align='center')\n",
    "    plt.yticks(range(len(sorted_idx)), [features[i] for i in sorted_idx])\n",
    "    plt.title(f\"{model_name} - Feature Importance\")\n",
    "    plt.xlabel(\"Importance\")\n",
    "    plt.show()\n",
    "\n",
    "plot_feature_importance(rf_model, \"Random Forest\")\n",
    "plot_feature_importance(xgb_model, \"XGBoost\")\n",
    "\n",
    "\n",
    "#XGBoost model data visualization using matplotlib and seaborn\n",
    "# Combine actual and predicted values into a DataFrame for visualization\n",
    "results_df = pd.DataFrame({'Actual': y_test, 'Predicted': xgb_preds})\n",
    "# Scatter plot of Actual vs Predicted\n",
    "plt.figure(figsize=(8, 6))\n",
    "sns.scatterplot(x='Actual', y='Predicted', data=results_df, alpha=0.5)\n",
    "plt.plot([results_df['Actual'].min(), results_df['Actual'].max()], [results_df['Actual'].min(), results_df['Actual'].max()], 'r--')\n",
    "plt.title('XGBoost: Actual vs Predicted Prices')\n",
    "plt.xlabel('Actual Prices')\n",
    "plt.ylabel('Predicted Prices')\n",
    "plt.show()\n",
    "\n"
   ]
  }
 ],
 "metadata": {
  "kernelspec": {
   "display_name": "Python 3",
   "language": "python",
   "name": "python3"
  },
  "language_info": {
   "codemirror_mode": {
    "name": "ipython",
    "version": 3
   },
   "file_extension": ".py",
   "mimetype": "text/x-python",
   "name": "python",
   "nbconvert_exporter": "python",
   "pygments_lexer": "ipython3",
   "version": "3.12.0"
  }
 },
 "nbformat": 4,
 "nbformat_minor": 2
}
